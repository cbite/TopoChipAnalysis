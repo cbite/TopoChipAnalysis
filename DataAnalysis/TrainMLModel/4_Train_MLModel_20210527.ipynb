{
 "cells": [
  {
   "cell_type": "markdown",
   "metadata": {},
   "source": [
    "### Train a machine learning model "
   ]
  },
  {
   "cell_type": "markdown",
   "metadata": {},
   "source": [
    "#### Step 1: Setup "
   ]
  },
  {
   "cell_type": "code",
   "execution_count": null,
   "metadata": {},
   "outputs": [],
   "source": [
    "import pandas as pd\n",
    "import os\n",
    "import sklearn\n",
    "import shap\n",
    "from sklearn.preprocessing import StandardScaler\n",
    "from sklearn import metrics\n",
    "from sklearn.metrics import accuracy_score, roc_curve, auc\n",
    "from sklearn.model_selection import train_test_split, cross_validate,RandomizedSearchCV\n",
    "from xgboost import XGBClassifier, plot_importance\n",
    "import matplotlib.pyplot as plt\n",
    "from trainMLmodel import surfaceDesignTopAndBottom,selectDescriptors,combineRankAndDescriptorsClassyfication,explainer"
   ]
  },
  {
   "cell_type": "markdown",
   "metadata": {},
   "source": [
    "#### Step 2: load the data file"
   ]
  },
  {
   "cell_type": "code",
   "execution_count": null,
   "metadata": {},
   "outputs": [],
   "source": [
    "# Define the location of the csv files imageOutliersRemoved and Ranking\n",
    "pathToImageObject=os.getcwd()+\"/DataAnalysis/\"       \n",
    "locationOfImageObject1=pathToImageObject+\"imageOutliersRemoved.csv\"\n",
    "locationOfImageObject2=pathToImageObject+\"Ranking.csv\"\n",
    "# Define the location of the annotation files\n",
    "pathToTopoUnitImages=os.getcwd()+\"/AnnotationFiles/FeatureImages/\"\n",
    "allTopoDescriptors=pd.read_csv(os.getcwd()+\"/AnnotationFiles/allTopoDescriptors.csv\")\n",
    "# check if file exists\n",
    "if os.path.isfile(locationOfImageObject1):\n",
    "    imagedataOutliersRemoved=pd.read_csv(locationOfImageObject1,low_memory=False)\n",
    "    if os.path.isfile(locationOfImageObject2):\n",
    "        imageDataRankedSurfaces=pd.read_csv(locationOfImageObject2,low_memory=False)\n",
    "    else:\n",
    "        print(\"File not found, check if you finished ranking the features\")\n",
    "else:\n",
    "    print('File not find, check if you removed the outliers')\n"
   ]
  },
  {
   "cell_type": "markdown",
   "metadata": {},
   "source": [
    "#### Step 3: Select Features for the machine learning."
   ]
  },
  {
   "cell_type": "markdown",
   "metadata": {},
   "source": [
    "##### Step 3.1 Vizualize the topographies design from top and bottom of the rank."
   ]
  },
  {
   "cell_type": "markdown",
   "metadata": {},
   "source": [
    "First, select the feature of interest"
   ]
  },
  {
   "cell_type": "code",
   "execution_count": null,
   "metadata": {},
   "outputs": [],
   "source": [
    "featureOfInterest='Screen_Mean_Median_Nuclei_Intensity_IntegratedIntensity_CorrYap'"
   ]
  },
  {
   "cell_type": "markdown",
   "metadata": {},
   "source": [
    "Second, select the number of top and bottom ranked feautures you want to select"
   ]
  },
  {
   "cell_type": "code",
   "execution_count": null,
   "metadata": {},
   "outputs": [],
   "source": [
    "numberOfRankedFeaturesToVisualize=27"
   ]
  },
  {
   "cell_type": "code",
   "execution_count": null,
   "metadata": {},
   "outputs": [],
   "source": [
    "surfaceDesignTopAndBottom(imageDataRankedSurfaces,pathToTopoUnitImages,featureOfInterest,number=numberOfRankedFeaturesToVisualize)"
   ]
  },
  {
   "cell_type": "markdown",
   "metadata": {},
   "source": [
    "### Step 4 Load and vizualize descriptors data"
   ]
  },
  {
   "cell_type": "markdown",
   "metadata": {},
   "source": [
    "##### Step 4.1 select descriptors based on a keyword "
   ]
  },
  {
   "cell_type": "code",
   "execution_count": null,
   "metadata": {},
   "outputs": [],
   "source": [
    "selectedDescriptors= selectDescriptors(allDescriptors=allTopoDescriptors,\n",
    "              #  keywordsToInclude=[\"Pattern\",\"Kamiel\"],\n",
    "                  keywordsToExclude=[\"Zernike\",\"_Index\",\"Height\",\"Width\", \"Center\",\"Texture\"])"
   ]
  },
  {
   "cell_type": "markdown",
   "metadata": {},
   "source": [
    "### Step 5: Train Machine Learning models"
   ]
  },
  {
   "cell_type": "markdown",
   "metadata": {},
   "source": [
    "##### Step 5.1 : train the model based on the ranked surfaces and the descriptors selected in step 4.1"
   ]
  },
  {
   "cell_type": "code",
   "execution_count": null,
   "metadata": {},
   "outputs": [],
   "source": [
    "X,Y=combineRankAndDescriptorsClassyfication(SortedRank=imageDataRankedSurfaces,\n",
    "                                               Descriptors=selectedDescriptors,\n",
    "                                               numberPerClass=300)"
   ]
  },
  {
   "cell_type": "markdown",
   "metadata": {},
   "source": [
    "##### Step 5.2: split X and Y in training and test data set"
   ]
  },
  {
   "cell_type": "code",
   "execution_count": null,
   "metadata": {},
   "outputs": [],
   "source": [
    "X_train,X_test,y_train,y_test=train_test_split(X,Y)"
   ]
  },
  {
   "cell_type": "markdown",
   "metadata": {},
   "source": [
    "##### Step 5.3: select a classification model"
   ]
  },
  {
   "cell_type": "code",
   "execution_count": null,
   "metadata": {},
   "outputs": [],
   "source": [
    "classyficationModel = XGBClassifier()"
   ]
  },
  {
   "cell_type": "markdown",
   "metadata": {},
   "source": [
    "Step 5.4: find the most optimal parameters for the classification model "
   ]
  },
  {
   "cell_type": "code",
   "execution_count": null,
   "metadata": {},
   "outputs": [],
   "source": [
    "searchParameters = {\n",
    "            'min_child_weight': [0.1, 1, 5, 10, 50],\n",
    "            'gamma': [0.5, 1, 1.5, 2, 5],\n",
    "            'subsample': [0.6, 0.8, 1.0],\n",
    "            'colsample_bytree': [0.6, 0.8, 1.0],\n",
    "            'max_depth': [5, 10, 25, 50],\n",
    "            'learning_rate': [0.0001, 0.001, 0.1, 1],\n",
    "            'n_estimators': [50, 100, 250, 500],\n",
    "            'reg_alpha': [0.0001, 0.001, 0.1, 1],\n",
    "            'reg_lambda': [0.0001, 0.001, 0.1, 1]\n",
    "                    }\n",
    "\n",
    "fitingParameters={\n",
    "            \"early_stopping_rounds\":10,\n",
    "            \"eval_metric\" : \"auc\", \n",
    "            \"eval_set\" : [[X_train, y_train]]\n",
    "                   }\n",
    "\n",
    "random_search = RandomizedSearchCV(\n",
    "                classyficationModel, \n",
    "                cv=5,\n",
    "                param_distributions=searchParameters, \n",
    "                scoring='roc_auc', \n",
    "                n_jobs=-1,\n",
    "                verbose=10, \n",
    "                random_state=0,\n",
    "                        )\n",
    "\n",
    "searchModel=random_search.fit(X_train, y_train, **fitingParameters)\n",
    "bestParameters=searchModel.best_estimator_.get_params()"
   ]
  },
  {
   "cell_type": "markdown",
   "metadata": {},
   "source": [
    "Step 5.5: Print the set of most optimal parameters"
   ]
  },
  {
   "cell_type": "code",
   "execution_count": null,
   "metadata": {},
   "outputs": [],
   "source": [
    "bestParameters"
   ]
  },
  {
   "cell_type": "markdown",
   "metadata": {},
   "source": [
    "Step 5.6: Train the model with the optimal set of parameters"
   ]
  },
  {
   "cell_type": "code",
   "execution_count": null,
   "metadata": {},
   "outputs": [],
   "source": [
    "bestClassyficationModel=XGBClassifier(**bestParameters)\n",
    "bestClassyficationModel.fit(X_train, y_train)"
   ]
  },
  {
   "cell_type": "code",
   "execution_count": null,
   "metadata": {},
   "outputs": [],
   "source": [
    "predicted_train = bestClassyficationModel.predict(X_train)\n",
    "probabilities_train = bestClassyficationModel.predict_proba(X_train)\n",
    "predicted_test = bestClassyficationModel.predict(X_test)\n",
    "probabilities_test = bestClassyficationModel.predict_proba(X_test)"
   ]
  },
  {
   "cell_type": "markdown",
   "metadata": {},
   "source": [
    "Step 5.7 :Print out accuracy metrics"
   ]
  },
  {
   "cell_type": "code",
   "execution_count": null,
   "metadata": {},
   "outputs": [],
   "source": [
    "print ('\\nTrain Accuracy:', metrics.accuracy_score(y_train, predicted_train))\n",
    "print ('Test Accuracy:', metrics.accuracy_score(y_test, predicted_test))\n"
   ]
  },
  {
   "cell_type": "markdown",
   "metadata": {},
   "source": [
    "Step 5.8: plot the AUC curve for training and test data"
   ]
  },
  {
   "cell_type": "code",
   "execution_count": null,
   "metadata": {},
   "outputs": [],
   "source": [
    "# calculate the false and true positive rates (fpr, tpr)\n",
    "train_fpr, train_tpr, train_threshold = metrics.roc_curve(y_train, probabilities_train[:,1])\n",
    "test_fpr, test_tpr, test_threshold = metrics.roc_curve(y_test, probabilities_test[:,1])\n",
    "#obtain the values for the AUC plot\n",
    "train_roc_auc = metrics.auc(train_fpr, train_tpr)\n",
    "test_roc_auc = metrics.auc(test_fpr, test_tpr)\n",
    "#make the plot\n",
    "fig, ax = plt.subplots(figsize=[5,5])\n",
    "plt.title('Receiver Operating Characteristic')\n",
    "plt.plot(train_fpr, train_tpr, 'b', label = 'Train AUC = %0.2f' % train_roc_auc)\n",
    "plt.plot(test_fpr, test_tpr, 'g', label = 'Test AUC = %0.2f' % test_roc_auc)\n",
    "plt.legend(loc = 'lower right')\n",
    "plt.plot([0, 1], [0, 1],'r--')\n",
    "plt.xlim([0, 1])\n",
    "plt.ylim([0, 1])\n",
    "plt.ylabel('True Positive Rate')\n",
    "plt.xlabel('False Positive Rate')\n",
    "plt.show()"
   ]
  },
  {
   "cell_type": "markdown",
   "metadata": {},
   "source": [
    "Step 5.9: Plot 10 most important features for the model"
   ]
  },
  {
   "cell_type": "code",
   "execution_count": null,
   "metadata": {},
   "outputs": [],
   "source": [
    "plot_importance(bestClassyficationModel,max_num_features=10,xlabel='Features weight');    \n",
    "plt.show()"
   ]
  },
  {
   "cell_type": "markdown",
   "metadata": {},
   "source": [
    "### Step 6: Use SHAP module to explain predicted model"
   ]
  },
  {
   "cell_type": "markdown",
   "metadata": {},
   "source": [
    "##### Step 6.1: Show which features contribute to prediction of particular surface"
   ]
  },
  {
   "cell_type": "code",
   "execution_count": null,
   "metadata": {},
   "outputs": [],
   "source": [
    "explainerDefinition=explainer(dataForModel=X,\n",
    "          model=bestClassyficationModel,\n",
    "          hit=1)"
   ]
  },
  {
   "cell_type": "markdown",
   "metadata": {},
   "source": [
    "##### Step 6.2: Show SHAP values for every important feature and every predicted surface Plot explanation https://shap.readthedocs.io/en/latest/"
   ]
  },
  {
   "cell_type": "code",
   "execution_count": null,
   "metadata": {},
   "outputs": [],
   "source": [
    "shap_values = explainerDefinition.shap_values(X)\n",
    "shap.summary_plot(shap_values, X)"
   ]
  },
  {
   "cell_type": "markdown",
   "metadata": {},
   "source": [
    "##### Step 6.3: Draw a scatter plot with features of interest"
   ]
  },
  {
   "cell_type": "markdown",
   "metadata": {},
   "source": [
    "Set the feature of interest for the x- and y-axis"
   ]
  },
  {
   "cell_type": "code",
   "execution_count": null,
   "metadata": {},
   "outputs": [],
   "source": [
    "xFeature=\"Kamiel_FCPN01\"\n",
    "yFeature=\"Pattern_AreaShape_Orientation_median\""
   ]
  },
  {
   "cell_type": "code",
   "execution_count": null,
   "metadata": {},
   "outputs": [],
   "source": [
    "fig, ax = plt.subplots(figsize=[10,10])\n",
    "\n",
    "colors = {0:'yellow', 1:'blue'}\n",
    "\n",
    "binned=X\n",
    "binned[\"Class\"]=Y\n",
    "\n",
    "grouped = binned.groupby(\"Class\")\n",
    "\n",
    "for key, group in grouped:\n",
    "    group.plot(ax=ax, kind='scatter', \n",
    "               x=xFeature, \n",
    "               y=yFeature, \n",
    "               label=key, color=colors[key])\n",
    "\n",
    "plt.show()"
   ]
  },
  {
   "cell_type": "code",
   "execution_count": null,
   "metadata": {},
   "outputs": [],
   "source": []
  }
 ],
 "metadata": {
  "kernelspec": {
   "display_name": "Python 3",
   "language": "python",
   "name": "python3"
  },
  "language_info": {
   "codemirror_mode": {
    "name": "ipython",
    "version": 3
   },
   "file_extension": ".py",
   "mimetype": "text/x-python",
   "name": "python",
   "nbconvert_exporter": "python",
   "pygments_lexer": "ipython3",
   "version": "3.8.5"
  }
 },
 "nbformat": 4,
 "nbformat_minor": 4
}
