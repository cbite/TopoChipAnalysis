{
 "cells": [
  {
   "cell_type": "markdown",
   "id": "9b1f011b",
   "metadata": {},
   "source": [
    "Real Quick feature visualizer"
   ]
  },
  {
   "cell_type": "code",
   "execution_count": null,
   "id": "c9f132ea",
   "metadata": {},
   "outputs": [],
   "source": [
    "import os\n",
    "from matplotlib import pyplot as plt\n",
    "from PIL import Image\n",
    "\n",
    "def featureViz(topo, bigly = 250, dim = 10, angle=0):\n",
    "    '''\n",
    "    Yields a reproduction of a topounit.\n",
    "    Enter topography feature Idx as integer as first argument.\n",
    "    Optional argument are imagesize (bigly) of one feature,\n",
    "    the number of patterned features (dim) in an n x n grid,\n",
    "    and the angle of the topochip (angle), at 0, 90, 180 or 270 degrees.\n",
    "\n",
    "    '''\n",
    "    \n",
    "    #turn integer into filename string\n",
    "    idX = 'Pattern_FeatureIdx_' + str(topo) + '.png'\n",
    "    \n",
    "    #create path to the FeatureImages map\n",
    "    featureMap = os.getcwd() + \"AnnotationFiles/FeatureImages/\"\n",
    "    #list all images in FeatureImages folder\n",
    "    features = os.listdir(featureMap)\n",
    "    \n",
    "    #loop through images\n",
    "    for feature in features:\n",
    "        #if filenames correspond\n",
    "        if idX in feature:\n",
    "            #get image location and end loop\n",
    "            featurePath = featureMap + feature\n",
    "            break\n",
    "\n",
    "    # open image and resize to user defined dimension\n",
    "    img = Image.open(featurePath)\n",
    "    img_size = img.resize((bigly, bigly))\n",
    "    \n",
    "    #create image with dimensions which are a multiple of set dimensions\n",
    "    img2 = Image.new(\"RGB\", (bigly*dim, bigly*dim), \"white\")\n",
    "\n",
    "    #initialize grid indices\n",
    "    x = 0\n",
    "    y = 0\n",
    "    \n",
    "    #loop over grid in x and y\n",
    "    for i in range(dim):\n",
    "        for j in range(dim):\n",
    "            #paste in image at every x and y\n",
    "            img2.paste(img_size, (x, y))\n",
    "            #iterate one step in x direction\n",
    "            x += bigly\n",
    "        #reset x pos to 0\n",
    "        x = 0\n",
    "        #iterate one step in y direction\n",
    "        y += bigly\n",
    "    \n",
    "    #perform image rotation\n",
    "    img3 = img2.rotate(angle)\n",
    "    \n",
    "    #plot image\n",
    "    plt.imshow(img3)"
   ]
  },
  {
   "cell_type": "markdown",
   "id": "b974e3a1",
   "metadata": {},
   "source": [
    "Change topography featureIdx (e.g. 2177 is supposed to be flat)"
   ]
  },
  {
   "cell_type": "code",
   "execution_count": null,
   "id": "277e5f5e",
   "metadata": {},
   "outputs": [],
   "source": [
    "featureViz(1080, bigly = 250, dim = 20, angle=90)"
   ]
  }
 ],
 "metadata": {
  "kernelspec": {
   "display_name": "Python 3",
   "language": "python",
   "name": "python3"
  },
  "language_info": {
   "codemirror_mode": {
    "name": "ipython",
    "version": 3
   },
   "file_extension": ".py",
   "mimetype": "text/x-python",
   "name": "python",
   "nbconvert_exporter": "python",
   "pygments_lexer": "ipython3",
   "version": "3.8.10"
  }
 },
 "nbformat": 4,
 "nbformat_minor": 5
}
