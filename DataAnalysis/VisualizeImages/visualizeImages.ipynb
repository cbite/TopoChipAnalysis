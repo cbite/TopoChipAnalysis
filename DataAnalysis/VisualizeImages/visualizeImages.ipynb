{
 "cells": [
  {
   "cell_type": "markdown",
   "metadata": {},
   "source": [
    "### Script to visualize the croppend and segmentation results for selected features"
   ]
  },
  {
   "cell_type": "markdown",
   "metadata": {},
   "source": [
    "##### Load the required functions"
   ]
  },
  {
   "cell_type": "code",
   "execution_count": null,
   "metadata": {},
   "outputs": [],
   "source": [
    "from visualizeImagesSelectedFeatures import read_text_file,set_working_directory,retrieve_name_images_selected_features,plot_the_images,plot_feature_distribution,plot_feature_relations"
   ]
  },
  {
   "cell_type": "markdown",
   "metadata": {},
   "source": [
    "##### Set the working directory containing the TopoScreen"
   ]
  },
  {
   "cell_type": "code",
   "execution_count": null,
   "metadata": {},
   "outputs": [],
   "source": [
    "directory_screen_images="
   ]
  },
  {
   "cell_type": "code",
   "execution_count": null,
   "metadata": {},
   "outputs": [],
   "source": [
    "set_working_directory(location_screen=directory_screen_images)"
   ]
  },
  {
   "cell_type": "markdown",
   "metadata": {},
   "source": [
    "##### Read the file containing the images alligned to the features"
   ]
  },
  {
   "cell_type": "code",
   "execution_count": null,
   "metadata": {},
   "outputs": [],
   "source": [
    "path_to_aligned_images=          # should link to imageWithFIdx.csv"
   ]
  },
  {
   "cell_type": "code",
   "execution_count": null,
   "metadata": {},
   "outputs": [],
   "source": [
    "alligned_images=read_text_file(path_to_aligned_images,seperator=\",\")"
   ]
  },
  {
   "cell_type": "markdown",
   "metadata": {},
   "source": [
    "Read the ranking list of the features"
   ]
  },
  {
   "cell_type": "code",
   "execution_count": null,
   "metadata": {},
   "outputs": [],
   "source": [
    "path_to_ranking="
   ]
  },
  {
   "cell_type": "code",
   "execution_count": null,
   "metadata": {},
   "outputs": [],
   "source": [
    "ranking_results=read_text_file(path_to_ranking,seperator=\",\")"
   ]
  },
  {
   "cell_type": "code",
   "execution_count": null,
   "metadata": {},
   "outputs": [],
   "source": [
    "ranking_results.columns[ranking_results.columns.str.contains('Feature')]"
   ]
  },
  {
   "cell_type": "markdown",
   "metadata": {},
   "source": [
    "##### Select the type of image you want to select"
   ]
  },
  {
   "cell_type": "code",
   "execution_count": null,
   "metadata": {},
   "outputs": [],
   "source": [
    "alligned_images.columns[alligned_images.columns.str.contains('FileName')]"
   ]
  },
  {
   "cell_type": "code",
   "execution_count": null,
   "metadata": {},
   "outputs": [],
   "source": [
    "images_to_select='FileName_OrigOverlay'"
   ]
  },
  {
   "cell_type": "code",
   "execution_count": null,
   "metadata": {},
   "outputs": [],
   "source": [
    "number_of_surfaces=25"
   ]
  },
  {
   "cell_type": "code",
   "execution_count": null,
   "metadata": {},
   "outputs": [],
   "source": [
    "top_hits=ranking_results.loc[0:number_of_surfaces,'FeatureIdx']"
   ]
  },
  {
   "cell_type": "code",
   "execution_count": null,
   "metadata": {},
   "outputs": [],
   "source": [
    "bottom_hits=ranking_results.iloc[-number_of_surfaces:]\n",
    "bottom_hits=bottom_hits.loc[:,'FeatureIdx']"
   ]
  },
  {
   "cell_type": "code",
   "execution_count": null,
   "metadata": {},
   "outputs": [],
   "source": [
    "print(top_hits)"
   ]
  },
  {
   "cell_type": "markdown",
   "metadata": {},
   "source": [
    "##### set the feature idx for which you need the cropped and segmented images"
   ]
  },
  {
   "cell_type": "code",
   "execution_count": null,
   "metadata": {},
   "outputs": [],
   "source": [
    "feature_filename=retrieve_name_images_selected_features(selected_features=top_hits,data_images=alligned_images,image_column=images_to_select)"
   ]
  },
  {
   "cell_type": "code",
   "execution_count": null,
   "metadata": {},
   "outputs": [],
   "source": [
    "feature_filename.shape"
   ]
  },
  {
   "cell_type": "markdown",
   "metadata": {},
   "source": [
    "## Segmented images for selected features top hits"
   ]
  },
  {
   "cell_type": "code",
   "execution_count": null,
   "metadata": {},
   "outputs": [],
   "source": [
    "folder_images=\"/03_Segmentation/\""
   ]
  },
  {
   "cell_type": "code",
   "execution_count": null,
   "metadata": {},
   "outputs": [],
   "source": [
    "plot_the_images(image_data=feature_filename,features_to_plot=top_hits,image_type=images_to_select,image_mode='png',visualizing='Segmentation',folder_to_select=folder_images,number_of_rows=2,number_of_columns=10,save_figure='No')"
   ]
  },
  {
   "cell_type": "markdown",
   "metadata": {},
   "source": [
    "## Cropped images for selected features top hits"
   ]
  },
  {
   "cell_type": "code",
   "execution_count": null,
   "metadata": {},
   "outputs": [],
   "source": [
    "image_folder='/02_CroppedImages/'"
   ]
  },
  {
   "cell_type": "code",
   "execution_count": null,
   "metadata": {},
   "outputs": [],
   "source": [
    "alligned_images.columns[alligned_images.columns.str.contains('FileName')]"
   ]
  },
  {
   "cell_type": "code",
   "execution_count": null,
   "metadata": {},
   "outputs": [],
   "source": [
    "images_to_select_cropped='FileName_SMA'"
   ]
  },
  {
   "cell_type": "code",
   "execution_count": null,
   "metadata": {},
   "outputs": [],
   "source": [
    "feature_filename=retrieve_name_images_selected_features(selected_features=top_hits,data_images=alligned_images,image_column=images_to_select_cropped)"
   ]
  },
  {
   "cell_type": "code",
   "execution_count": null,
   "metadata": {},
   "outputs": [],
   "source": [
    "plot_the_images(image_data=feature_filename,features_to_plot=top_hits,image_type=images_to_select_cropped,image_mode='tif',visualizing='Cropped',folder_to_select=image_folder,number_of_rows=2,number_of_columns=10,save_figure='No')"
   ]
  },
  {
   "cell_type": "markdown",
   "metadata": {},
   "source": [
    "## Segmentation images for the bottom hits"
   ]
  },
  {
   "cell_type": "code",
   "execution_count": null,
   "metadata": {},
   "outputs": [],
   "source": [
    "folder_images=\"/03_Segmentation/\""
   ]
  },
  {
   "cell_type": "code",
   "execution_count": null,
   "metadata": {},
   "outputs": [],
   "source": [
    "images_to_select='FileName_OrigOverlay'"
   ]
  },
  {
   "cell_type": "code",
   "execution_count": null,
   "metadata": {},
   "outputs": [],
   "source": [
    "feature_filename=retrieve_name_images_selected_features(selected_features=bottom_hits,data_images=alligned_images,image_column=images_to_select)"
   ]
  },
  {
   "cell_type": "code",
   "execution_count": null,
   "metadata": {},
   "outputs": [],
   "source": [
    "plot_the_images(image_data=feature_filename,features_to_plot=bottom_hits,image_type=images_to_select,image_mode='png',visualizing='Segmentation',folder_to_select=folder_images,number_of_rows=2,number_of_columns=10,save_figure='No')"
   ]
  },
  {
   "cell_type": "markdown",
   "metadata": {},
   "source": [
    "## Cropped images for the bottom hits"
   ]
  },
  {
   "cell_type": "code",
   "execution_count": null,
   "metadata": {},
   "outputs": [],
   "source": [
    "image_folder='/02_CroppedImages/'"
   ]
  },
  {
   "cell_type": "code",
   "execution_count": null,
   "metadata": {},
   "outputs": [],
   "source": [
    "images_to_select_cropped='FileName_SMA'"
   ]
  },
  {
   "cell_type": "code",
   "execution_count": null,
   "metadata": {},
   "outputs": [],
   "source": [
    "feature_filename=retrieve_name_images_selected_features(selected_features=top_hits,data_images=alligned_images,image_column=images_to_select_cropped)"
   ]
  },
  {
   "cell_type": "code",
   "execution_count": null,
   "metadata": {},
   "outputs": [],
   "source": [
    "plot_the_images(image_data=feature_filename,features_to_plot=bottom_hits,image_type=images_to_select_cropped,image_mode='tif',visualizing='Cropped',folder_to_select=image_folder,number_of_rows=2,number_of_columns=10,save_figure='No')"
   ]
  },
  {
   "cell_type": "markdown",
   "metadata": {},
   "source": [
    "### Visualize the mean intensity values for the selected features"
   ]
  },
  {
   "cell_type": "code",
   "execution_count": null,
   "metadata": {},
   "outputs": [],
   "source": [
    "from itertools import chain\n",
    "feature_idx=[top_hits.values,bottom_hits.values]\n",
    "featureidx=list(chain.from_iterable(feature_idx))"
   ]
  },
  {
   "cell_type": "code",
   "execution_count": null,
   "metadata": {},
   "outputs": [],
   "source": [
    "alligned_images.columns[alligned_images.columns.str.contains('SMA')]"
   ]
  },
  {
   "cell_type": "code",
   "execution_count": null,
   "metadata": {},
   "outputs": [],
   "source": [
    "feature_to_plot_mean='Mean_Nuclei_Intensity_IntegratedIntensity_CorrSMA'"
   ]
  },
  {
   "cell_type": "code",
   "execution_count": null,
   "metadata": {},
   "outputs": [],
   "source": [
    "plot_feature_distribution(image_data=alligned_images,feature_of_interest=feature_to_plot_mean,features_to_plot=featureidx)"
   ]
  },
  {
   "cell_type": "markdown",
   "metadata": {},
   "source": [
    "### Visualize the median intensity values for the selected features"
   ]
  },
  {
   "cell_type": "code",
   "execution_count": null,
   "metadata": {},
   "outputs": [],
   "source": [
    "feature_to_plot_median='Median_Nuclei_Intensity_IntegratedIntensity_CorrSMA'"
   ]
  },
  {
   "cell_type": "code",
   "execution_count": null,
   "metadata": {},
   "outputs": [],
   "source": [
    "plot_feature_distribution(image_data=alligned_images,feature_of_interest=feature_to_plot_median,features_to_plot=featureidx)"
   ]
  },
  {
   "cell_type": "markdown",
   "metadata": {},
   "source": [
    "### Visualize the Mean Nuclei Children Cell Count"
   ]
  },
  {
   "cell_type": "code",
   "execution_count": null,
   "metadata": {},
   "outputs": [],
   "source": [
    "alligned_images.columns[alligned_images.columns.str.contains('Count')]"
   ]
  },
  {
   "cell_type": "code",
   "execution_count": null,
   "metadata": {},
   "outputs": [],
   "source": [
    "feature_to_plot_mean_cells='Count_Cells'"
   ]
  },
  {
   "cell_type": "code",
   "execution_count": null,
   "metadata": {},
   "outputs": [],
   "source": [
    "plot_feature_distribution(image_data=alligned_images,feature_of_interest=feature_to_plot_mean_cells,features_to_plot=featureidx)"
   ]
  },
  {
   "cell_type": "markdown",
   "metadata": {},
   "source": [
    "### Plot the relation between relevant features "
   ]
  },
  {
   "cell_type": "code",
   "execution_count": null,
   "metadata": {},
   "outputs": [],
   "source": [
    "import pandas as pd\n",
    "import matplotlib.pyplot as plt\n",
    "import seaborn as sns\n",
    "def plot_feature_relations(image_data=None,feature1=None,feature2=None,top_hits=None,bottom_hits=None):\n",
    "    # Scatter plot the show the relation between two features of interest\n",
    "    # add a label for bottom and for top hits\n",
    "    image_data_top_hits=image_data.loc[image_data['FeatureIdx'].isin(top_hits),:]\n",
    "    image_data_bottom_hits=image_data.loc[image_data['FeatureIdx'].isin(bottom_hits),:]\n",
    "    image_data_top_hits.loc[:,'Label']='Top hit'\n",
    "    image_data_bottom_hits.loc[:,'Label']='Bottom hit'\n",
    "    image_data_combined=pd.concat([image_data_top_hits,image_data_bottom_hits])\n",
    "    #markers = {3: \"Top hit\", 33: \"Top hit\",421:\"Top hit\",783:\"Top hit\",788:\"Top hit\",1249:\"Top hit\",1686:\"Top hit\",1981:\"Top hit\",2115:\"Top hit\",2144:\"Top hit\",1445:\"Bottom hit\",1593:\"Bottom hit\",1693:\"Bottom hit\",1866:\"Bottom hit\",2174:\"Bottom hit\"}\n",
    "    #markers = {1013: \"Top hit\", 1982: \"Top hit\",2113:\"Top hit\",2114:\"Top hit\",2146:\"Top hit\",21:\"Bottom hit\",194:\"Bottom hit\",485:\"Bottom hit\",745:\"Bottom hit\",1156:\"Bottom hit\",1365:\"Bottom hit\",1467:\"Bottom hit\"}\n",
    "    #markers2 = {1013: \"1013\", 1982: \"1982\",2113:\"2113\",2114:\"2114\",2146:\"2146\",21:\"21\",194:\"194\",485:\"485\",745:\"745\",1156:\"1156\",1365:\"1365\",1467:\"1467\"}\n",
    "    markers_bottom= dict.fromkeys(bottom_hits, \"Bottom\")\n",
    "    markers_top=dict.fromkeys(top_hits,\"Top\")\n",
    "    markers={**markers_bottom,**markers_top}\n",
    "    # calculate the mean of feature 1 and feature 2\n",
    "    image_data_combined_tmp=image_data_combined.loc[:,['FeatureIdx',feature1,feature2,'Label']]\n",
    "    image_data_combined_mean=image_data_combined_tmp.groupby(['FeatureIdx'])[[feature1,feature2]].mean()\n",
    "    image_data_combined_median=image_data_combined_tmp.groupby(['FeatureIdx'])[[feature1,feature2]].median()\n",
    "    # add three subplots, one for top hits, one for bottom hits and one for the combined hits\n",
    "    fig, ((axs1, axs2,axs3), (axs4, axs5,axs6)) = plt.subplots(2, 3,figsize=(16,10))\n",
    "    fig.tight_layout(pad=10)\n",
    "    axs1.set_title('Top hits')\n",
    "    sns.scatterplot(x=feature1,y=feature2,data=image_data_top_hits,ax=axs1)\n",
    "    axs2.set_title('Bottom hits')\n",
    "    sns.scatterplot(x=feature1,y=feature2,data=image_data_bottom_hits,ax=axs2)\n",
    "    axs4.set_title('Mean values for both features')\n",
    "    sns.scatterplot(x=feature1,y=feature2,data=image_data_combined_mean,hue=markers,ax=axs4)\n",
    "    axs4.set(\n",
    "        xlabel='Mean_'+feature1,\n",
    "        ylabel='Mean_'+feature2\n",
    "    )\n",
    "    axs6.set_title('Median values for the selected features')\n",
    "    sns.scatterplot(x=feature1,y=feature2,data=image_data_combined_median,hue=markers,ax=axs6)\n",
    "    axs6.set(\n",
    "        xlabel='Median_'+feature1,\n",
    "        ylabel='Median_'+feature2\n",
    "    )\n"
   ]
  },
  {
   "cell_type": "code",
   "execution_count": null,
   "metadata": {},
   "outputs": [],
   "source": [
    "plot_feature_relations(image_data=alligned_images,feature1='Median_Nuclei_Math_Integrated_Intensity_RatioNucleibyCytoplasm',feature2='Count_Cells',top_hits=top_hits.values,bottom_hits=bottom_hits.values)"
   ]
  },
  {
   "cell_type": "code",
   "execution_count": null,
   "metadata": {},
   "outputs": [],
   "source": [
    "## create a larger plot\n",
    "def plot_feature_relation(image_data=None,feature1=None,feature2=None,top_hits=None,bottom_hits=None):\n",
    "    image_data_top_hits=image_data.loc[image_data['FeatureIdx'].isin(top_hits),:]\n",
    "    image_data_bottom_hits=image_data.loc[image_data['FeatureIdx'].isin(bottom_hits),:]\n",
    "    image_data_top_hits.loc[:,'Label']='Top hit'\n",
    "    image_data_bottom_hits.loc[:,'Label']='Bottom hit'\n",
    "    image_data_combined=pd.concat([image_data_top_hits,image_data_bottom_hits])\n",
    "    markers_bottom= dict.fromkeys(bottom_hits, \"Bottom\")\n",
    "    markers_top=dict.fromkeys(top_hits,\"top\")\n",
    "    markers={**markers_bottom,**markers_top}\n",
    "    plt.figure(figsize=(10,10))\n",
    "    # calculate the mean of feature 1 and feature 2\n",
    "    image_data_combined_tmp=image_data_combined.loc[:,['FeatureIdx',feature1,feature2,'Label']]\n",
    "    image_data_combined_mean_all=image_data_combined_tmp.groupby(['FeatureIdx'])[[feature1,feature2]].mean()\n",
    "    image_data_combined_median_all=image_data_combined_tmp.groupby(['FeatureIdx'])[[feature1,feature2]].median()\n",
    "    ax=sns.scatterplot(x=feature1, y=feature2,data=image_data_combined_mean_all,hue=markers)\n",
    "    ax.set(\n",
    "        xlabel='Mean_'+feature1,\n",
    "        ylabel='Mean_'+feature2\n",
    "    )    \n",
    "    # add annotations one by one with a loop\n",
    "    for line in range(0, image_data_combined_mean_all.shape[0]):\n",
    "        textmarkerind=image_data_combined_mean_all.index.get_level_values('FeatureIdx')[line]\n",
    "        tmp=image_data_combined_mean_all.loc[:,feature1]\n",
    "        value=tmp.iloc[line]\n",
    "        tmp2=image_data_combined_mean_all.loc[:,feature2]\n",
    "        value2=tmp2.iloc[line]\n",
    "        ax.text( value,value2, str(textmarkerind), horizontalalignment='center', size='medium', color='black')\n",
    "\n",
    "    plt.show()"
   ]
  },
  {
   "cell_type": "code",
   "execution_count": null,
   "metadata": {},
   "outputs": [],
   "source": [
    "test=plot_feature_relation(image_data=alligned_images,feature1='Median_Nuclei_Math_Integrated_Intensity_RatioNucleibyCytoplasm',feature2='Count_Cells',top_hits=top_hits,bottom_hits=bottom_hits)"
   ]
  },
  {
   "cell_type": "code",
   "execution_count": null,
   "metadata": {},
   "outputs": [],
   "source": []
  }
 ],
 "metadata": {
  "kernelspec": {
   "display_name": "Python 3",
   "language": "python",
   "name": "python3"
  },
  "language_info": {
   "codemirror_mode": {
    "name": "ipython",
    "version": 3
   },
   "file_extension": ".py",
   "mimetype": "text/x-python",
   "name": "python",
   "nbconvert_exporter": "python",
   "pygments_lexer": "ipython3",
   "version": "3.8.5"
  }
 },
 "nbformat": 4,
 "nbformat_minor": 4
}
