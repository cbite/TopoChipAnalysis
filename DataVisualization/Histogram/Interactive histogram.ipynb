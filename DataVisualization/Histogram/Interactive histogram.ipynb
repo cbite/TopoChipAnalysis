{
 "cells": [
  {
   "cell_type": "markdown",
   "id": "93126aca",
   "metadata": {},
   "source": [
    "<h2>Interactive histogram </h2>"
   ]
  },
  {
   "cell_type": "code",
   "execution_count": 1,
   "id": "09171ab3",
   "metadata": {},
   "outputs": [],
   "source": [
    "import os\n",
    "import pandas as pd\n",
    "import seaborn as sns\n",
    "import ipywidgets as widgets\n",
    "from ipywidgets import interact, interact_manual, HBox\n",
    "import IPython.display\n",
    "from IPython.display import display, clear_output\n",
    "import matplotlib.pyplot as plt\n",
    "\n",
    "# set the font size\n",
    "sns.set(font_scale=1.5)"
   ]
  },
  {
   "cell_type": "markdown",
   "id": "468c1259",
   "metadata": {},
   "source": [
    "<h3> load the data file </h3>"
   ]
  },
  {
   "cell_type": "code",
   "execution_count": 4,
   "id": "fb9b02f7",
   "metadata": {},
   "outputs": [],
   "source": [
    "input_data=pd.read_csv('Data_Frame_EdU_aSMA_Macrophage_Output.txt',sep='\\t')"
   ]
  },
  {
   "cell_type": "markdown",
   "id": "69ed8690",
   "metadata": {},
   "source": [
    "<h3> Visualize the data </h3>"
   ]
  },
  {
   "cell_type": "code",
   "execution_count": 5,
   "id": "84b2c2e6",
   "metadata": {},
   "outputs": [],
   "source": [
    "columns_to_select=[column for column in input_data.columns if input_data[column].dtype=='float64']"
   ]
  },
  {
   "cell_type": "code",
   "execution_count": 18,
   "id": "cd32eed8",
   "metadata": {},
   "outputs": [
    {
     "data": {
      "application/vnd.jupyter.widget-view+json": {
       "model_id": "3da5e489c83d4ed2ad9bd8d87ff28e94",
       "version_major": 2,
       "version_minor": 0
      },
      "text/plain": [
       "HBox(children=(Dropdown(description='X-axis', options=('Count_Fibroblast(EdUScreen)', 'Count_EdUPositive(EdUSc…"
      ]
     },
     "metadata": {},
     "output_type": "display_data"
    },
    {
     "data": {
      "application/vnd.jupyter.widget-view+json": {
       "model_id": "a52af5f76a384acead3e6a640009d99e",
       "version_major": 2,
       "version_minor": 0
      },
      "text/plain": [
       "Output()"
      ]
     },
     "metadata": {},
     "output_type": "display_data"
    }
   ],
   "source": [
    "# Create the dropdown menus\n",
    "drop_down_1=widgets.Dropdown(options=columns_to_select,description='X-axis',disabled=False)\n",
    "slider_bin=widgets.IntSlider(value=7,min=0,max=25,step=1,description='Bins:',disabled=False,continuous_update=False,orientation='horizontal',readout=True,readout_format='d')\n",
    "ui=HBox([drop_down_1,slider_bin])\n",
    "def draw_histogram(column1,bins_setting):\n",
    "    global fig\n",
    "    fig=plt.figure(figsize=(15,10))\n",
    "    sc=sns.histplot(data=input_data,x=column1,bins=bins_setting)\n",
    "output=widgets.interactive_output(draw_histogram,{'column1':drop_down_1,'bins_setting':slider_bin})\n",
    "display(ui,output)"
   ]
  },
  {
   "cell_type": "markdown",
   "id": "94e10668",
   "metadata": {},
   "source": [
    "<h3> Save the figure as high-resolution PNG </h3>"
   ]
  },
  {
   "cell_type": "markdown",
   "id": "0d499e93",
   "metadata": {},
   "source": [
    "<h5> Set the file name </h5>"
   ]
  },
  {
   "cell_type": "code",
   "execution_count": 19,
   "id": "397c2449",
   "metadata": {},
   "outputs": [],
   "source": [
    "file_name='histogram'"
   ]
  },
  {
   "cell_type": "code",
   "execution_count": 20,
   "id": "a16f682c",
   "metadata": {},
   "outputs": [],
   "source": [
    "fig.savefig(file_name+'.png', dpi=300)"
   ]
  },
  {
   "cell_type": "code",
   "execution_count": null,
   "id": "356ac24c",
   "metadata": {},
   "outputs": [],
   "source": []
  }
 ],
 "metadata": {
  "kernelspec": {
   "display_name": "Python 3 (ipykernel)",
   "language": "python",
   "name": "python3"
  },
  "language_info": {
   "codemirror_mode": {
    "name": "ipython",
    "version": 3
   },
   "file_extension": ".py",
   "mimetype": "text/x-python",
   "name": "python",
   "nbconvert_exporter": "python",
   "pygments_lexer": "ipython3",
   "version": "3.8.8"
  }
 },
 "nbformat": 4,
 "nbformat_minor": 5
}
