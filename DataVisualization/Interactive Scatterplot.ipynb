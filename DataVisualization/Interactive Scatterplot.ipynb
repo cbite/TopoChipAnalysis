{
 "cells": [
  {
   "cell_type": "markdown",
   "metadata": {},
   "source": [
    "<h2> Data visualization: scatter plot </h2>"
   ]
  },
  {
   "cell_type": "markdown",
   "metadata": {},
   "source": [
    "<p> This jupyter notebook contains the code to visualize data in a scatter plot. You can dynamically change the features to visualize and see how this change the relationships. </p>"
   ]
  },
  {
   "cell_type": "code",
   "execution_count": null,
   "metadata": {},
   "outputs": [],
   "source": [
    "import os\n",
    "import pandas as pd\n",
    "import seaborn as sns\n",
    "import ipywidgets as widgets\n",
    "from ipywidgets import interact, interact_manual, HBox\n",
    "import IPython.display\n",
    "from IPython.display import display, clear_output"
   ]
  },
  {
   "cell_type": "markdown",
   "metadata": {},
   "source": [
    "<h4> load the data file </h4>"
   ]
  },
  {
   "cell_type": "code",
   "execution_count": null,
   "metadata": {},
   "outputs": [],
   "source": [
    "input_data=pd.read_csv('Data_Frame_EdU_aSMA_Macrophage_Output.txt',sep='\\t')"
   ]
  },
  {
   "cell_type": "code",
   "execution_count": null,
   "metadata": {},
   "outputs": [],
   "source": [
    "import ipywidgets as widgets"
   ]
  },
  {
   "cell_type": "markdown",
   "metadata": {},
   "source": [
    "<h3> Visualize the data </h3>"
   ]
  },
  {
   "cell_type": "code",
   "execution_count": null,
   "metadata": {},
   "outputs": [],
   "source": [
    "columns_to_select=[column for column in input_data.columns if input_data[column].dtype=='float64']"
   ]
  },
  {
   "cell_type": "code",
   "execution_count": null,
   "metadata": {},
   "outputs": [],
   "source": [
    "# Create the dropdown menus\n",
    "drop_down_1=widgets.Dropdown(options=columns_to_select,description='X-axis',disabled=False)\n",
    "drop_down_2=widgets.Dropdown(options=columns_to_select,description='Y-axis',disabled=False)\n",
    "ui=HBox([drop_down_1,drop_down_2,drop_down_2])\n",
    "def draw_scatterplot(column1,column2):\n",
    "    sc=sns.scatterplot(data=input_data,x=column1,y=column2)\n",
    "output=widgets.interactive_output(draw_scatterplot,{'column1':drop_down_1,'column2':drop_down_2})\n",
    "display(ui,output)"
   ]
  },
  {
   "cell_type": "code",
   "execution_count": null,
   "metadata": {},
   "outputs": [],
   "source": []
  },
  {
   "cell_type": "code",
   "execution_count": null,
   "metadata": {},
   "outputs": [],
   "source": []
  }
 ],
 "metadata": {
  "kernelspec": {
   "display_name": "Python 3",
   "language": "python",
   "name": "python3"
  },
  "language_info": {
   "codemirror_mode": {
    "name": "ipython",
    "version": 3
   },
   "file_extension": ".py",
   "mimetype": "text/x-python",
   "name": "python",
   "nbconvert_exporter": "python",
   "pygments_lexer": "ipython3",
   "version": "3.8.5"
  }
 },
 "nbformat": 4,
 "nbformat_minor": 4
}
